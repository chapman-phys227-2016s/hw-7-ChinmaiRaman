{
 "cells": [
  {
   "cell_type": "code",
   "execution_count": 3,
   "metadata": {
    "collapsed": false
   },
   "outputs": [],
   "source": [
    "import numpy as np\n",
    "import sympy as sp\n",
    "import math\n",
    "\n",
    "import Lagrange_poly3 as p1\n",
    "import Lagrange_poly4 as p2\n",
    "import Polynomial_vec as p3\n",
    "import Polynomial_dict as p4\n",
    "import Polynomial as p5\n",
    "\n",
    "import matplotlib.pyplot as plt\n",
    "\n",
    "# Needed only in Jupyter to render properly in-notebook\n",
    "%matplotlib inline"
   ]
  },
  {
   "cell_type": "markdown",
   "metadata": {},
   "source": [
    "# Chinmai Raman\n",
    "\n",
    "## Homework 7\n",
    "\n",
    "## 7.8 Wrapping functions in a class\n",
    "Visualizes $p_L(x)$ for x between the first and last interpolation point on a given function"
   ]
  },
  {
   "cell_type": "code",
   "execution_count": 2,
   "metadata": {
    "collapsed": false
   },
   "outputs": [
    {
     "name": "stdout",
     "output_type": "stream",
     "text": [
      "p_L(1.2) = 0.93224\n",
      "sin(1.2) = 0.932039\n"
     ]
    },
    {
     "data": {
      "image/png": "[encoded data removed]",
      "text/plain": [
       "<matplotlib.figure.Figure at 0x7f0d0350d110>"
      ]
     },
     "metadata": {},
     "output_type": "display_data"
    }
   ],
   "source": [
    "xp = np.linspace(0, np.pi, 5)\n",
    "yp = np.sin(xp)\n",
    "\n",
    "#Lagrange's interpolation polynomial\n",
    "p_L = p1.LagrangeInterpolation(xp, yp)\n",
    "x = 1.2\n",
    "print 'p_L(%g) = %g' % (x, p_L(x))\n",
    "print 'sin(%g) = %g' % (x, np.sin(x))\n",
    "p_L.plot()"
   ]
  },
  {
   "cell_type": "markdown",
   "metadata": {},
   "source": [
    "## 7.9 Flexibly handling function arguments\n",
    "The LagrangeInterpolation class is now flexible in handling function arguments"
   ]
  },
  {
   "cell_type": "code",
   "execution_count": 4,
   "metadata": {
    "collapsed": false
   },
   "outputs": [
    {
     "data": {
      "image/png": "[encoded data removed]",
      "text/plain": [
       "<matplotlib.figure.Figure at 0x7f35903ea650>"
      ]
     },
     "metadata": {},
     "output_type": "display_data"
    }
   ],
   "source": [
    "def myfunction(x):\n",
    "    return np.exp(-x/2.0)*np.sin(x)\n",
    "\n",
    "p_L2 = p2.LagrangeInterpolation(myfunction, [0, np.pi], 11)\n",
    "p_L2.plot()"
   ]
  },
  {
   "cell_type": "markdown",
   "metadata": {
    "collapsed": true
   },
   "source": [
    "## 7.27 Vectorizing a class for polynomials"
   ]
  },
  {
   "cell_type": "markdown",
   "metadata": {},
   "source": [
    "$f(x)=10+5x+4x^2$ for $x = 3$"
   ]
  },
  {
   "cell_type": "code",
   "execution_count": 11,
   "metadata": {
    "collapsed": false
   },
   "outputs": [
    {
     "data": {
      "text/plain": [
       "61.0"
      ]
     },
     "execution_count": 11,
     "metadata": {},
     "output_type": "execute_result"
    }
   ],
   "source": [
    "poly = p3.Polynomial(np.array([10.0, 5.0, 4.0]))\n",
    "poly(3)"
   ]
  },
  {
   "cell_type": "code",
   "execution_count": 4,
   "metadata": {
    "collapsed": false
   },
   "outputs": [
    {
     "name": "stdout",
     "output_type": "stream",
     "text": [
      "float64\n"
     ]
    },
    {
     "data": {
      "text/plain": [
       "'10 + 5*x + 4*x^2'"
      ]
     },
     "execution_count": 4,
     "metadata": {},
     "output_type": "execute_result"
    }
   ],
   "source": [
    "poly = p3.Polynomial(np.array([10.0, 5.0, 4.0]))\n",
    "str(poly)"
   ]
  },
  {
   "cell_type": "code",
   "execution_count": 3,
   "metadata": {
    "collapsed": false
   },
   "outputs": [
    {
     "name": "stdout",
     "output_type": "stream",
     "text": [
      "float64\n"
     ]
    },
    {
     "data": {
      "text/plain": [
       "'5 + 8*x^1'"
      ]
     },
     "execution_count": 3,
     "metadata": {},
     "output_type": "execute_result"
    }
   ],
   "source": [
    "poly = p3.Polynomial(np.array([10.0, 5.0, 4.0]))\n",
    "poly.differentiate()\n",
    "str(poly)"
   ]
  },
  {
   "cell_type": "markdown",
   "metadata": {},
   "source": [
    "The calculations in a case where $n = 3$ using the vectorized statements produces the same results as the original differentiate method"
   ]
  },
  {
   "cell_type": "markdown",
   "metadata": {},
   "source": [
    "### Unvectorized"
   ]
  },
  {
   "cell_type": "code",
   "execution_count": 23,
   "metadata": {
    "collapsed": false
   },
   "outputs": [
    {
     "name": "stdout",
     "output_type": "stream",
     "text": [
      "10000 loops, best of 3: 107 µs per loop\n"
     ]
    }
   ],
   "source": [
    "arr = []\n",
    "for i in range(0, 1000):\n",
    "    arr.append(i)\n",
    "poly1 = p5.Polynomial(arr)\n",
    "\n",
    "%timeit poly1 + poly1"
   ]
  },
  {
   "cell_type": "markdown",
   "metadata": {},
   "source": [
    "### Vectorized"
   ]
  },
  {
   "cell_type": "code",
   "execution_count": 22,
   "metadata": {
    "collapsed": false
   },
   "outputs": [
    {
     "name": "stdout",
     "output_type": "stream",
     "text": [
      "1000 loops, best of 3: 247 µs per loop\n"
     ]
    }
   ],
   "source": [
    "arr2 = np.zeros(1000)\n",
    "for i in range(0, 1000):\n",
    "    arr2[i] = i\n",
    "poly2 = p3.Polynomial(arr2)\n",
    "\n",
    "%timeit poly2 + poly2"
   ]
  },
  {
   "cell_type": "markdown",
   "metadata": {},
   "source": [
    "### Unvectorized"
   ]
  },
  {
   "cell_type": "code",
   "execution_count": 6,
   "metadata": {
    "collapsed": false
   },
   "outputs": [
    {
     "name": "stdout",
     "output_type": "stream",
     "text": [
      "1 loops, best of 3: 425 ms per loop\n"
     ]
    }
   ],
   "source": [
    "%timeit poly1 * poly1"
   ]
  },
  {
   "cell_type": "markdown",
   "metadata": {},
   "source": [
    "### Vectorized"
   ]
  },
  {
   "cell_type": "code",
   "execution_count": 7,
   "metadata": {
    "collapsed": false
   },
   "outputs": [
    {
     "name": "stdout",
     "output_type": "stream",
     "text": [
      "1 loops, best of 3: 512 ms per loop\n"
     ]
    }
   ],
   "source": [
    "%timeit poly2 * poly2"
   ]
  },
  {
   "cell_type": "markdown",
   "metadata": {},
   "source": [
    "The add and mul functions in the unvectorized Polynomial Class are running faster than their counterparts in the vectorized Polynomial class. Despite changing the length of the coefficients, the unvectorized class remains faster. Why this is is unclear."
   ]
  },
  {
   "cell_type": "markdown",
   "metadata": {},
   "source": [
    "## 7.28 Using a dictionary to hold polynomial coefficients"
   ]
  },
  {
   "cell_type": "code",
   "execution_count": 9,
   "metadata": {
    "collapsed": false
   },
   "outputs": [
    {
     "name": "stdout",
     "output_type": "stream",
     "text": [
      "{0: 1, 1: 2, 3: 3}\n",
      "{0: 3, 1: 4, 2: 1, 4: 2}\n",
      "{0.0: 4.0, 1.0: 6.0, 2.0: 1.0, 3.0: 3.0, 4.0: 2.0}\n"
     ]
    }
   ],
   "source": [
    "poly = p4.Polynomial(np.array([1, 2, 0, 3]))\n",
    "poly2 = p4.Polynomial(np.array([3, 4, 1, 0, 2]))\n",
    "poly3 = poly + poly2"
   ]
  },
  {
   "cell_type": "code",
   "execution_count": 10,
   "metadata": {
    "collapsed": false
   },
   "outputs": [
    {
     "name": "stdout",
     "output_type": "stream",
     "text": [
      "{1: 1, 3: 2}\n",
      "{0: 3, 2: 4}\n",
      "{1.0: 3.0, 3.0: 10.0, 5.0: 8.0}\n"
     ]
    }
   ],
   "source": [
    "poly = p4.Polynomial(np.array([0, 1, 0, 2]))\n",
    "poly2 = p4.Polynomial(np.array([3, 0, 4]))\n",
    "poly3 = poly * poly2"
   ]
  },
  {
   "cell_type": "code",
   "execution_count": 8,
   "metadata": {
    "collapsed": false
   },
   "outputs": [
    {
     "name": "stdout",
     "output_type": "stream",
     "text": [
      "10 loops, best of 3: 22.7 ms per loop\n"
     ]
    }
   ],
   "source": [
    "arr3 = {}\n",
    "for i in range(0, 1000):\n",
    "    arr3[i] = i\n",
    "poly3 = p4.Polynomial(arr3)\n",
    "\n",
    "%timeit poly3 + poly3"
   ]
  },
  {
   "cell_type": "code",
   "execution_count": 10,
   "metadata": {
    "collapsed": false
   },
   "outputs": [
    {
     "name": "stdout",
     "output_type": "stream",
     "text": [
      "1 loops, best of 3: 331 ms per loop\n"
     ]
    }
   ],
   "source": [
    "%timeit poly3 * poly3"
   ]
  },
  {
   "cell_type": "markdown",
   "metadata": {},
   "source": [
    "The add function is significantly slower using the dictionary implementation than both the vectorized and unvectorized versions. However the multiply function is faster. The positive of this implementation is that one can input functions of high order with zero coefficients much faster. Memory is also saved within the program from not having to store coefficients when they are zero. The negative is that testing is more difficult, as for example, the 'numpy.allclose()' function only works with arrays, and not dictionaries."
   ]
  }
 ],
 "metadata": {
  "kernelspec": {
   "display_name": "Python 2 (SageMath)",
   "language": "python",
   "name": "python2"
  },
  "language_info": {
   "codemirror_mode": {
    "name": "ipython",
    "version": 2
   },
   "file_extension": ".py",
   "mimetype": "text/x-python",
   "name": "python",
   "nbconvert_exporter": "python",
   "pygments_lexer": "ipython2",
   "version": "2.7.10"
  }
 },
 "nbformat": 4,
 "nbformat_minor": 0
}
